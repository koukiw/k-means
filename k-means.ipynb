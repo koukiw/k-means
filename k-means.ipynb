{
 "cells": [
  {
   "cell_type": "markdown",
   "id": "ca2eefd5-faf5-41d7-93c9-b4df1bec571e",
   "metadata": {},
   "source": [
    "2次元or３次元データに対してk-meansによるクラスタリング"
   ]
  },
  {
   "cell_type": "code",
   "execution_count": 4,
   "id": "7cd5287b-0a24-4de6-a40d-064061c17790",
   "metadata": {},
   "outputs": [
    {
     "name": "stdin",
     "output_type": "stream",
     "text": [
      "Once deleted, variables cannot be recovered. Proceed (y/[n])?  y\n"
     ]
    }
   ],
   "source": [
    "%reset"
   ]
  },
  {
   "cell_type": "code",
   "execution_count": 5,
   "id": "fac42e0a-c340-481a-b677-ea5f51b88b43",
   "metadata": {},
   "outputs": [
    {
     "name": "stderr",
     "output_type": "stream",
     "text": [
      "/var/folders/c4/bqdz_03n3w1db3krhv3c2ztw0000gn/T/ipykernel_82567/3400218808.py:60: RuntimeWarning: Mean of empty slice.\n",
      "  new_centroids[j] = X[cluster==j].mean(axis=0)\n"
     ]
    },
    {
     "name": "stdout",
     "output_type": "stream",
     "text": [
      "目的関数の値は0.033740668153942846\n",
      "15 21 21 21 21\n",
      "[[0.30566653 0.50111113]\n",
      " [0.50484129 0.69666671]\n",
      " [0.70492067 0.50555562]\n",
      " [0.50309529 0.50662705]\n",
      " [0.49928581 0.30452376]]\n"
     ]
    },
    {
     "data": {
      "image/png": "[encoded data removed]",
      "text/plain": [
       "<Figure size 432x288 with 1 Axes>"
      ]
     },
     "metadata": {
      "needs_background": "light"
     },
     "output_type": "display_data"
    }
   ],
   "source": [
    "import pandas as pd\n",
    "import numpy as np\n",
    "import matplotlib.pyplot as plt\n",
    "import csv\n",
    "#不動小数点計算のエラーが起きたときの動作を指定、divideは0で除算した時、invalidはよくわからん\n",
    "np.seterr(divide='ignore', invalid='ignore')\n",
    "#csvファイルの読み込み、一行目はヘッダーじゃない\n",
    "df = pd.read_csv(\"input.csv\",header=None)\n",
    "\n",
    "#クラスタ数宣言\n",
    "k=5\n",
    "#max繰り返し回数の宣言\n",
    "max_iter=100\n",
    "#dfをnumpyで扱えるnp.ndarray変換\n",
    "X = df.values\n",
    "#配列の行数、列数の格納\n",
    "X_size,dimension = X.shape\n",
    "\n",
    "\n",
    "# 前の重心と比較するために、仮に新しい重心を入れておく配列を用意\n",
    "new_centroids = np.zeros((k, dimension))\n",
    "    \n",
    "# 各データ所属クラスタ情報を保存する配列を用意\n",
    "cluster = np.zeros(X_size)\n",
    "\n",
    "#重心と各点との最小距離を格納\n",
    "sum_distance = []\n",
    "min_distance = []\n",
    "\n",
    "#目的関数のリスト作成\n",
    "J = []\n",
    "#目的関数の初期値作成\n",
    "best_J = 10000\n",
    "#目的関数の時の重心の初期値\n",
    "best_centroids = np.ones((k, dimension))\n",
    "\n",
    "#HCMアルゴリズム\n",
    "for s in range(max_iter):\n",
    "    # ランダムに重心の初期値を初期化\n",
    "    centroids  = X[np.random.choice(X_size,k)]\n",
    "    # ループ上限回数まで繰り返し\n",
    "    for epoch in range(max_iter):\n",
    "    # 入力データ全てに対して繰り返し\n",
    "        for i in range(X_size):\n",
    "            # データから各重心までの距離(v)を計算（ルートを取らなくても大小関係は変わらないので省略）\n",
    "            distances = np.sum((centroids - X[i]) ** 2, axis=1)\n",
    "            #一番近い重心との距離を格納(v)\n",
    "            min_distance.append(min(distances))\n",
    "\n",
    "            # データの所属クラスタを距離の一番近い重心を持つものに更新,clusterには一番近い重心のインデックス（0から４の値が格納されている）\n",
    "            cluster[i] = np.argsort(distances)[0]\n",
    "\n",
    "        #目的関数の値をリストmin_distanceに格納    \n",
    "        sum_distance.append(sum(min_distance))\n",
    "        #重心と各点との最小距離を格納するリストの初期化\n",
    "        min_distance =list()\n",
    "\n",
    "        # すべてのクラスタに対して重心を再計算\n",
    "        for j in range(k):\n",
    "            new_centroids[j] = X[cluster==j].mean(axis=0)\n",
    "    \n",
    "        # もしも重心が変わっていなかったら終了\n",
    "        if (np.allclose(new_centroids, centroids)):\n",
    "            break\n",
    "        centroids =  np.copy(new_centroids)\n",
    "\n",
    "    \n",
    "    if best_J > sum_distance[-1]:\n",
    "        #最適な目的関数の更新\n",
    "        best_J = sum_distance[-1]\n",
    "        #目的関数が小さくなるときの重心を格納\n",
    "        best_centroids = np.copy(centroids)\n",
    "\n",
    "print(\"目的関数の値は\"+str(best_J))\n",
    "#print(sum_distance)\n",
    "cluster_list = cluster.tolist()\n",
    "print(cluster_list.count(0),cluster_list.count(1),cluster_list.count(2),cluster_list.count(3),cluster_list.count(4))\n",
    "print(centroids)\n",
    "\n",
    "\n",
    "#matplotlibに描写\n",
    "if dimension == 2:\n",
    "    colors = ['red', 'blue', 'green','yellow','fuchsia']\n",
    "    markers = [\",\", \"o\", \"v\", \"^\", \"<\", \">\", \"1\", \"2\", \"3\"]\n",
    "    fig = plt.figure()\n",
    "    ax = fig.add_subplot(111)\n",
    "    for i in range(k):\n",
    "        ax.scatter(X[:, 0][cluster==i], X[:, 1][cluster==i], color=colors[i],marker=markers[i])\n",
    "    ax.scatter(best_centroids[:,0],best_centroids[:,1],color=\"black\",marker=\"x\")\n",
    "    ax.set_xlabel(\"X\", size=14)\n",
    "    ax.set_ylabel(\"Y\", size=14)\n",
    "    ax.legend(['cluster1', 'cluster2','cluster3','cluster4','cluster5',\"center\"],fontsize=9,ncol=2,bbox_to_anchor=(0, -0.1), loc='upper left')  # 凡例を表示\n",
    "\n",
    "    plt.show()\n",
    "    fig.savefig(\"img2d_hcm.pdf\",bbox_inches='tight')\n",
    "    #pandasで分割結果を記入\n",
    "    df[\"cluster\"]=cluster\n",
    "    df.to_csv('result2d.csv')\n",
    "    #目的関数を記入\n",
    "    with open ('result2d.csv','a') as f:\n",
    "        writer = csv.writer(f)\n",
    "        writer.writerow([\"J\",best_J])\n",
    "#matplotlib3次元version\n",
    "else:\n",
    "    # matplotで３Dモデル表示\n",
    "    colors = ['red', 'blue', 'green','yellow','fuchsia']\n",
    "    fig = plt.figure()\n",
    "    ax = fig.add_subplot(111, projection='3d')\n",
    "    ax.set_xlabel(\"X\", size=16)\n",
    "    ax.set_ylabel(\"Y\",size=14)\n",
    "    ax.set_zlabel(\"Z\",size=14)\n",
    "\n",
    "    for i in range(k):\n",
    "        ax.scatter(X[:, 0][cluster==i], X[:, 1][cluster==i], X[:, 2][cluster==i], color=colors[i],marker=markers[i])\n",
    "    ax.scatter(best_centroids[:,0],best_centroids[:,1],color=\"black\",marker=\"x\")\n",
    "    ax.legend(['cluster1', 'cluster2','cluster3','cluster4','cluster5',\"center\"],fontsize=9,ncol=2,bbox_to_anchor=(0, -0.1), loc='upper left')  # 凡例を表示\n",
    "    plt.show()\n",
    "    fig.savefig(\"img3d_hcm.pdf\")\n",
    "\n",
    "    #pandasで分割結果を記入\n",
    "    df[\"cluster\"]=cluster   \n",
    "    df.to_csv('result3d.csv')\n",
    "    #目的関数を記入\n",
    "    with open ('result3d.csv','a') as f:\n",
    "        writer = csv.writer(f)\n",
    "        writer.writerow([\"J\",best_J])"
   ]
  },
  {
   "cell_type": "code",
   "execution_count": null,
   "id": "c7dfb287-9303-479f-912c-f2c0fb3ef35c",
   "metadata": {},
   "outputs": [],
   "source": []
  }
 ],
 "metadata": {
  "kernelspec": {
   "display_name": "Python 3 (ipykernel)",
   "language": "python",
   "name": "python3"
  },
  "language_info": {
   "codemirror_mode": {
    "name": "ipython",
    "version": 3
   },
   "file_extension": ".py",
   "mimetype": "text/x-python",
   "name": "python",
   "nbconvert_exporter": "python",
   "pygments_lexer": "ipython3",
   "version": "3.9.7"
  }
 },
 "nbformat": 4,
 "nbformat_minor": 5
}
